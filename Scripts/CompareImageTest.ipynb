{
 "cells": [
  {
   "cell_type": "code",
   "execution_count": 3,
   "metadata": {},
   "outputs": [],
   "source": [
    "import matplotlib.pyplot as plt\n",
    "import matplotlib.image as mpimg\n",
    "import numpy as np"
   ]
  },
  {
   "cell_type": "code",
   "execution_count": 24,
   "metadata": {},
   "outputs": [],
   "source": [
    "#This file contains three ways of comparing images. \n",
    "canon1 = mpimg.imread('CLevel1.png')\n",
    "canon2 = mpimg.imread('CLevel8.png')"
   ]
  },
  {
   "cell_type": "code",
   "execution_count": 16,
   "metadata": {},
   "outputs": [
    {
     "data": {
      "text/plain": [
       "0.0"
      ]
     },
     "execution_count": 16,
     "metadata": {},
     "output_type": "execute_result"
    }
   ],
   "source": [
    "#1st Method MSE Method\n",
    "# the 'Mean Squared Error' between the two images is the\n",
    "# sum of the squared difference between the two images;\n",
    "# NOTE: the two images must have the same dimension\n",
    "err = np.sum((canon1.astype(\"float\") - canon2.astype(\"float\")) ** 2)\n",
    "err /= float(canon1.shape[0] * canon2.shape[1])\n",
    "# return the MSE, the lower the error, the more \"similar\"\n",
    "# the two images are\n",
    "err "
   ]
  },
  {
   "cell_type": "code",
   "execution_count": 18,
   "metadata": {},
   "outputs": [
    {
     "name": "stderr",
     "output_type": "stream",
     "text": [
      "usage: ipykernel_launcher.py [-h] -f FIRST -s SECOND\n",
      "ipykernel_launcher.py: error: the following arguments are required: -s/--second\n"
     ]
    },
    {
     "ename": "SystemExit",
     "evalue": "2",
     "output_type": "error",
     "traceback": [
      "An exception has occurred, use %tb to see the full traceback.\n",
      "\u001b[1;31mSystemExit\u001b[0m\u001b[1;31m:\u001b[0m 2\n"
     ]
    },
    {
     "name": "stderr",
     "output_type": "stream",
     "text": [
      "C:\\Users\\ryanm\\anaconda3\\lib\\site-packages\\IPython\\core\\interactiveshell.py:3426: UserWarning: To exit: use 'exit', 'quit', or Ctrl-D.\n",
      "  warn(\"To exit: use 'exit', 'quit', or Ctrl-D.\", stacklevel=1)\n"
     ]
    }
   ],
   "source": [
    "#Second method\n",
    "from skimage.measure import compare_ssim\n",
    "import argparse\n",
    "import imutils\n",
    "import cv2\n",
    "# construct the argument parse and parse the arguments\n",
    "ap = argparse.ArgumentParser()\n",
    "ap.add_argument(\"-f\", \"--first\", required=True,\n",
    "help=\"first input image\")\n",
    "ap.add_argument(\"-s\", \"--second\", required=True,\n",
    "help=\"second\")\n",
    "args = vars(ap.parse_args())"
   ]
  },
  {
   "cell_type": "code",
   "execution_count": 26,
   "metadata": {},
   "outputs": [],
   "source": [
    "#3rd method \n",
    "# convert the images to grayscale\n",
    "grayA = cv2.cvtColor(canon1, cv2.COLOR_BGR2GRAY)\n",
    "grayB = cv2.cvtColor(canon2, cv2.COLOR_BGR2GRAY)"
   ]
  },
  {
   "cell_type": "code",
   "execution_count": 27,
   "metadata": {},
   "outputs": [
    {
     "name": "stdout",
     "output_type": "stream",
     "text": [
      "SSIM: 0.5843033011749218\n"
     ]
    },
    {
     "name": "stderr",
     "output_type": "stream",
     "text": [
      "<ipython-input-27-79c964dfe754>:3: UserWarning: DEPRECATED: skimage.measure.compare_ssim has been moved to skimage.metrics.structural_similarity. It will be removed from skimage.measure in version 0.18.\n",
      "  (score, diff) = compare_ssim(grayA, grayB, full=True)\n"
     ]
    }
   ],
   "source": [
    "# compute the Structural Similarity Index (SSIM) between the two\n",
    "# images, ensuring that the difference image is returned\n",
    "#Anything less than 1 means the images are different\n",
    "(score, diff) = compare_ssim(grayA, grayB, full=True)\n",
    "diff = (diff * 255).astype(\"uint8\")\n",
    "print(\"SSIM: {}\".format(score))"
   ]
  },
  {
   "cell_type": "code",
   "execution_count": 33,
   "metadata": {},
   "outputs": [],
   "source": [
    "#4th method\n",
    "#Displays 4 images showing the original, modified, the difference and threshold\n",
    "# threshold the difference image, followed by finding contours to\n",
    "# obtain the regions of the two input images that differ\n",
    "thresh = cv2.threshold(diff, 0, 255,\n",
    "\tcv2.THRESH_BINARY_INV | cv2.THRESH_OTSU)[1]\n",
    "cnts = cv2.findContours(thresh.copy(), cv2.RETR_EXTERNAL,\n",
    "\tcv2.CHAIN_APPROX_SIMPLE)\n",
    "cnts = imutils.grab_contours(cnts)"
   ]
  },
  {
   "cell_type": "code",
   "execution_count": 34,
   "metadata": {},
   "outputs": [
    {
     "data": {
      "text/plain": [
       "-1"
      ]
     },
     "execution_count": 34,
     "metadata": {},
     "output_type": "execute_result"
    }
   ],
   "source": [
    "# loop over the contours\n",
    "for c in cnts:\n",
    "\t# compute the bounding box of the contour and then draw the\n",
    "\t# bounding box on both input images to represent where the two\n",
    "\t# images differ\n",
    "\t(x, y, w, h) = cv2.boundingRect(c)\n",
    "\tcv2.rectangle(canon1, (x, y), (x + w, y + h), (0, 0, 255), 2)\n",
    "\tcv2.rectangle(canon2, (x, y), (x + w, y + h), (0, 0, 255), 2)\n",
    "# show the output images\n",
    "cv2.imshow(\"Original\", canon1)\n",
    "cv2.imshow(\"Modified\", canon2)\n",
    "cv2.imshow(\"Diff\", diff)\n",
    "cv2.imshow(\"Thresh\", thresh)\n",
    "cv2.waitKey(0)"
   ]
  },
  {
   "cell_type": "code",
   "execution_count": 38,
   "metadata": {},
   "outputs": [],
   "source": [
    "#3rd method\n",
    "#Shows which parts of the image differs. \n",
    "from PIL import Image, ImageChops\n",
    "\n",
    "img1 = Image.open('CLevel1.png')\n",
    "img2 = Image.open('ADLevel1.png')\n",
    "\n",
    "diff = ImageChops.difference(img1, img2)\n",
    "\n",
    "if diff.getbbox():\n",
    "    diff.show()"
   ]
  },
  {
   "cell_type": "code",
   "execution_count": null,
   "metadata": {},
   "outputs": [],
   "source": []
  }
 ],
 "metadata": {
  "kernelspec": {
   "display_name": "Python 3",
   "language": "python",
   "name": "python3"
  },
  "language_info": {
   "codemirror_mode": {
    "name": "ipython",
    "version": 3
   },
   "file_extension": ".py",
   "mimetype": "text/x-python",
   "name": "python",
   "nbconvert_exporter": "python",
   "pygments_lexer": "ipython3",
   "version": "3.8.5"
  }
 },
 "nbformat": 4,
 "nbformat_minor": 4
}
