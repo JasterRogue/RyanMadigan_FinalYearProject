{
 "cells": [
  {
   "cell_type": "code",
   "execution_count": 1,
   "metadata": {},
   "outputs": [],
   "source": [
    "#import packages\n",
    "import cv2"
   ]
  },
  {
   "cell_type": "code",
   "execution_count": 2,
   "metadata": {},
   "outputs": [],
   "source": [
    "class ShapeDetector:\n",
    "    def __init__(self):\n",
    "        pass\n",
    "    \n",
    "    def detect(self, c):\n",
    "        #initialize the shape name abd approx the contour\n",
    "        shape = \"unidentified\"\n",
    "        peri = cv2.arcLength(c, True)\n",
    "        approx = cv2.approxPolyDP(c, 0.04 * peri, True)\n",
    "        \n",
    "        #if the shape is a triangle, it will have 3 vertices\n",
    "        if len(approx) == 3:\n",
    "            shape = \"triangle\"\n",
    "            \n",
    "        #if the shape has 4 vertices, it is either a square or a rectangle\n",
    "        elif len(approx) == 4:\n",
    "            #compute the bounding box of the contour and use the\n",
    "            #bounding box to compute aspect ratio\n",
    "            (x, y, w, h) = cv2.boundingRect(approx)\n",
    "            ar = w/ float(h)\n",
    "            \n",
    "            #a square will have an aspect ration that is approx equal\n",
    "            #to one, otherwise, the shape is a rectangle\n",
    "            if ar >= 0.95 and ar <= 1.05:\n",
    "                shape = \"square\"\n",
    "            else:\n",
    "                shape = \"rectangle\"\n",
    "                \n",
    "        #if the shape is a pentagon, it will have 5 vertices\n",
    "        elif len(approx) == 5:\n",
    "            shape = \"pentagon\"\n",
    "            \n",
    "        #otherwise, we assume the shape is a circle\n",
    "        else:\n",
    "            shape = \"circle\"\n",
    "            \n",
    "        return shape\n",
    "            "
   ]
  },
  {
   "cell_type": "code",
   "execution_count": 17,
   "metadata": {},
   "outputs": [],
   "source": [
    "#import packages\n",
    "import argparse\n",
    "import imutils \n",
    "import cv2\n",
    "\n",
    "#construct the argument parse and parse the arguments\n",
    "#ap = argparse.ArgumentParser()\n",
    "#ap.add_argument(\"-i\", \"--image\", required=True, help=\"path to the input image\")\n",
    "#args = vars(ap.parse_args())\n",
    "\n",
    "#load the image and resize it to a smaller factor so that\n",
    "#the shapes can be approximated better\n",
    "image = cv2.imread(\"shapes.png\")\n",
    "resized = imutils.resize(image, width=300)\n",
    "ratio = image.shape[0] / float(resized.shape[0])\n",
    "\n",
    "#convert the resized image to grayscale, blur it slightly \n",
    "#and threshold it\n",
    "gray = cv2.cvtColor(resized, cv2.COLOR_BGR2GRAY)\n",
    "blurred = cv2.GaussianBlur(gray, (5,5), 0)\n",
    "thresh = cv2.threshold(blurred, 60, 255, cv2.THRESH_BINARY)[1]\n",
    "\n",
    "#find contours in the threshold image and initialize the shape detector\n",
    "cnts = cv2.findContours(thresh.copy(), cv2.RETR_EXTERNAL, cv2.CHAIN_APPROX_SIMPLE)\n",
    "cnts = imutils.grab_contours(cnts)\n",
    "sd = ShapeDetector()"
   ]
  },
  {
   "cell_type": "code",
   "execution_count": 18,
   "metadata": {},
   "outputs": [],
   "source": [
    "#loop over the contours\n",
    "for c in cnts:\n",
    "    #compute the center of the contour, then detect the name of the \n",
    "    #shape using only the contour\n",
    "    M = cv2.moments(c)\n",
    "    cX = int((M[\"m10\"] / M[\"m00\"]) * ratio)\n",
    "    cY = int((M[\"m01\"] / M[\"m00\"]) * ratio)\n",
    "    shape = sd.detect(c)\n",
    "    \n",
    "    #multiply the contour (x, y) - coordinates by the resize ratio,\n",
    "    #then draw the contours and the name of the shape on the image\n",
    "    c = c.astype(\"float\")\n",
    "    c *= ratio\n",
    "    c = c.astype(\"int\")\n",
    "    cv2.drawContours(image, [c], -1, (0, 255, 0), 2)\n",
    "    cv2.putText(image, shape, (cX, cY), cv2.FONT_HERSHEY_SIMPLEX, 0.5, (255,255,255), 2)\n",
    "    \n",
    "    #show the output image\n",
    "    cv2.imshow(\"Image\", image)\n",
    "    cv2.waitKey(0)\n",
    "    "
   ]
  },
  {
   "cell_type": "code",
   "execution_count": null,
   "metadata": {},
   "outputs": [],
   "source": []
  }
 ],
 "metadata": {
  "kernelspec": {
   "display_name": "Python 3",
   "language": "python",
   "name": "python3"
  },
  "language_info": {
   "codemirror_mode": {
    "name": "ipython",
    "version": 3
   },
   "file_extension": ".py",
   "mimetype": "text/x-python",
   "name": "python",
   "nbconvert_exporter": "python",
   "pygments_lexer": "ipython3",
   "version": "3.8.5"
  }
 },
 "nbformat": 4,
 "nbformat_minor": 4
}
